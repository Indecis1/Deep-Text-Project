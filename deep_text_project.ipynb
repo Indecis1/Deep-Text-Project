{
 "cells": [
  {
   "cell_type": "markdown",
   "metadata": {},
   "source": [
    "# Deep Text Project \n",
    "\n",
    "**Description:**\n",
    "propose at least 2 models to predict new dinosaurs names.\n",
    "\n",
    "- model 1: n-grams langage model\n",
    "- model 2: deep learning model\n",
    "\n",
    "Author: Karl SOP"
   ]
  },
  {
   "cell_type": "code",
   "execution_count": 42,
   "metadata": {},
   "outputs": [],
   "source": [
    "import io\n",
    "import matplotlib.pyplot as plt\n",
    "import numpy as np\n",
    "import pandas as pd\n",
    "import re\n",
    "import tensorflow as tf\n",
    "\n",
    "from collections import namedtuple, deque\n",
    "from string import ascii_lowercase\n",
    "from tensorflow.keras.utils import plot_model"
   ]
  },
  {
   "cell_type": "markdown",
   "metadata": {},
   "source": [
    "# Utils"
   ]
  },
  {
   "cell_type": "code",
   "execution_count": 43,
   "metadata": {},
   "outputs": [],
   "source": [
    "import pathlib\n",
    "import os\n",
    "\n",
    "def create_path_if_not_exist(path: str) -> None:\n",
    "    \"\"\"\n",
    "    Create if exists missing directory in a path to a file\n",
    "    :param path: A file path\n",
    "    :return:\n",
    "    \"\"\"\n",
    "    dir_path, file = os.path.split(path)\n",
    "    # Create missing directory in the path\n",
    "    pathlib.Path(dir_path).mkdir(parents=True, exist_ok=True)"
   ]
  },
  {
   "cell_type": "code",
   "execution_count": 44,
   "metadata": {},
   "outputs": [],
   "source": [
    "save_plot_dir = \"plots/\"\n",
    "create_path_if_not_exist(save_plot_dir)"
   ]
  },
  {
   "cell_type": "markdown",
   "metadata": {},
   "source": [
    "## Importing Data"
   ]
  },
  {
   "cell_type": "code",
   "execution_count": 45,
   "metadata": {},
   "outputs": [],
   "source": [
    "def import_data(file_path):\n",
    "    lines = io.open(file_path, encoding='UTF-8').read().strip().split('\\n')\n",
    "    return np.array(lines)"
   ]
  },
  {
   "cell_type": "code",
   "execution_count": 46,
   "metadata": {},
   "outputs": [],
   "source": [
    "data = import_data(\"data/dinos.txt\")"
   ]
  },
  {
   "cell_type": "code",
   "execution_count": 47,
   "metadata": {},
   "outputs": [
    {
     "data": {
      "text/plain": [
       "(1536,)"
      ]
     },
     "execution_count": 47,
     "metadata": {},
     "output_type": "execute_result"
    }
   ],
   "source": [
    "data.shape"
   ]
  },
  {
   "cell_type": "markdown",
   "metadata": {},
   "source": [
    "## Data Exploration"
   ]
  },
  {
   "cell_type": "code",
   "execution_count": 48,
   "metadata": {},
   "outputs": [
    {
     "data": {
      "text/html": [
       "<div>\n",
       "<style scoped>\n",
       "    .dataframe tbody tr th:only-of-type {\n",
       "        vertical-align: middle;\n",
       "    }\n",
       "\n",
       "    .dataframe tbody tr th {\n",
       "        vertical-align: top;\n",
       "    }\n",
       "\n",
       "    .dataframe thead th {\n",
       "        text-align: right;\n",
       "    }\n",
       "</style>\n",
       "<table border=\"1\" class=\"dataframe\">\n",
       "  <thead>\n",
       "    <tr style=\"text-align: right;\">\n",
       "      <th></th>\n",
       "      <th>name</th>\n",
       "    </tr>\n",
       "  </thead>\n",
       "  <tbody>\n",
       "    <tr>\n",
       "      <th>0</th>\n",
       "      <td>Aachenosaurus</td>\n",
       "    </tr>\n",
       "    <tr>\n",
       "      <th>1</th>\n",
       "      <td>Aardonyx</td>\n",
       "    </tr>\n",
       "    <tr>\n",
       "      <th>2</th>\n",
       "      <td>Abdallahsaurus</td>\n",
       "    </tr>\n",
       "    <tr>\n",
       "      <th>3</th>\n",
       "      <td>Abelisaurus</td>\n",
       "    </tr>\n",
       "    <tr>\n",
       "      <th>4</th>\n",
       "      <td>Abrictosaurus</td>\n",
       "    </tr>\n",
       "  </tbody>\n",
       "</table>\n",
       "</div>"
      ],
      "text/plain": [
       "             name\n",
       "0   Aachenosaurus\n",
       "1        Aardonyx\n",
       "2  Abdallahsaurus\n",
       "3     Abelisaurus\n",
       "4   Abrictosaurus"
      ]
     },
     "execution_count": 48,
     "metadata": {},
     "output_type": "execute_result"
    }
   ],
   "source": [
    "df = pd.DataFrame(data, columns=[\"name\"])\n",
    "df.head()"
   ]
  },
  {
   "cell_type": "code",
   "execution_count": 49,
   "metadata": {},
   "outputs": [
    {
     "data": {
      "text/html": [
       "<div>\n",
       "<style scoped>\n",
       "    .dataframe tbody tr th:only-of-type {\n",
       "        vertical-align: middle;\n",
       "    }\n",
       "\n",
       "    .dataframe tbody tr th {\n",
       "        vertical-align: top;\n",
       "    }\n",
       "\n",
       "    .dataframe thead th {\n",
       "        text-align: right;\n",
       "    }\n",
       "</style>\n",
       "<table border=\"1\" class=\"dataframe\">\n",
       "  <thead>\n",
       "    <tr style=\"text-align: right;\">\n",
       "      <th></th>\n",
       "      <th>name</th>\n",
       "      <th>name_len</th>\n",
       "    </tr>\n",
       "  </thead>\n",
       "  <tbody>\n",
       "    <tr>\n",
       "      <th>0</th>\n",
       "      <td>Aachenosaurus</td>\n",
       "      <td>13</td>\n",
       "    </tr>\n",
       "    <tr>\n",
       "      <th>1</th>\n",
       "      <td>Aardonyx</td>\n",
       "      <td>8</td>\n",
       "    </tr>\n",
       "    <tr>\n",
       "      <th>2</th>\n",
       "      <td>Abdallahsaurus</td>\n",
       "      <td>14</td>\n",
       "    </tr>\n",
       "    <tr>\n",
       "      <th>3</th>\n",
       "      <td>Abelisaurus</td>\n",
       "      <td>11</td>\n",
       "    </tr>\n",
       "    <tr>\n",
       "      <th>4</th>\n",
       "      <td>Abrictosaurus</td>\n",
       "      <td>13</td>\n",
       "    </tr>\n",
       "  </tbody>\n",
       "</table>\n",
       "</div>"
      ],
      "text/plain": [
       "             name  name_len\n",
       "0   Aachenosaurus        13\n",
       "1        Aardonyx         8\n",
       "2  Abdallahsaurus        14\n",
       "3     Abelisaurus        11\n",
       "4   Abrictosaurus        13"
      ]
     },
     "execution_count": 49,
     "metadata": {},
     "output_type": "execute_result"
    }
   ],
   "source": [
    "df[\"name_len\"] = df[\"name\"].apply(lambda x: len(x))\n",
    "df.head()"
   ]
  },
  {
   "cell_type": "code",
   "execution_count": 50,
   "metadata": {},
   "outputs": [
    {
     "data": {
      "text/plain": [
       "count    1536.00000\n",
       "mean       11.96224\n",
       "std         2.49714\n",
       "min         3.00000\n",
       "25%        10.00000\n",
       "50%        12.00000\n",
       "75%        13.00000\n",
       "max        26.00000\n",
       "Name: name_len, dtype: float64"
      ]
     },
     "execution_count": 50,
     "metadata": {},
     "output_type": "execute_result"
    }
   ],
   "source": [
    "df[\"name_len\"].describe()"
   ]
  },
  {
   "cell_type": "code",
   "execution_count": 51,
   "metadata": {},
   "outputs": [
    {
     "data": {
      "image/png": "[encoded data removed]",
      "text/plain": [
       "<Figure size 640x480 with 1 Axes>"
      ]
     },
     "metadata": {},
     "output_type": "display_data"
    }
   ],
   "source": [
    "fig, ax = plt.subplots()\n",
    "bp = df.boxplot(column=[\"name_len\"])\n",
    "ax.set_title(\"name length initial data\")\n",
    "fig.savefig(os.path.join(save_plot_dir, \"initial_data_name_length.svg\"), format=\"svg\")\n",
    "plt.show()"
   ]
  },
  {
   "cell_type": "markdown",
   "metadata": {},
   "source": [
    "We see that we have 1536 dinosaurs names in our dataset with a mean length of 12 characters with a standrad deviation of 2.5. We also see that the mean ~ to the median in this case which is 12. So 50% of the names of our datase have names length in [3, 12] and 50% of the names in our database have names length in [10, 13]. From the boxplot we see that name length in [3, 5] and [17, 26] are outliers. \n",
    "\n",
    "All these factors suggest that if we set a size limit of 35 characters on the names of the dinosaurs we are going to generate, we will have made a realistic choice."
   ]
  },
  {
   "cell_type": "markdown",
   "metadata": {},
   "source": [
    "## Preprocessing"
   ]
  },
  {
   "cell_type": "code",
   "execution_count": 52,
   "metadata": {},
   "outputs": [],
   "source": [
    "data = np.char.lower(data)"
   ]
  },
  {
   "cell_type": "code",
   "execution_count": 53,
   "metadata": {},
   "outputs": [],
   "source": [
    "data = np.unique(data)"
   ]
  },
  {
   "cell_type": "code",
   "execution_count": 54,
   "metadata": {},
   "outputs": [],
   "source": [
    "SpecialToken = namedtuple(\"SpecialToken\", [\"start\", \"end\"])\n",
    "special_token = SpecialToken(\n",
    "    \"<START>\",\n",
    "    \"<END>\"\n",
    ")"
   ]
  },
  {
   "cell_type": "markdown",
   "metadata": {},
   "source": [
    "## First Model N-grams"
   ]
  },
  {
   "cell_type": "code",
   "execution_count": 55,
   "metadata": {},
   "outputs": [],
   "source": [
    "def create_word_index_unigram(special_token: SpecialToken) -> tuple[dict[str, int], np.ndarray]:\n",
    "    \"\"\"\n",
    "        Generate all unigrams\n",
    "        :param special_token: a namedtuple with all the special token\n",
    "        :return a dict mapping letter to integer and a list mapping it indices to a letter\n",
    "    \"\"\"\n",
    "    word_to_index = {\n",
    "        (special_token.start, ): 0,\n",
    "        (special_token.end, ): 1\n",
    "    }\n",
    "    index_to_word = [special_token.start, special_token.end]\n",
    "    i = 2\n",
    "    for letter in ascii_lowercase:\n",
    "        word_to_index[letter] = i\n",
    "        index_to_word.append(letter)\n",
    "        i += 1\n",
    "\n",
    "    return word_to_index, index_to_word\n",
    "\n",
    "\n",
    "def create_word_index_n_gram(n: int, text: np.ndarray, special_token: SpecialToken) -> tuple[dict[str, int], np.ndarray]:\n",
    "    \"\"\"\n",
    "        Generate all n_gram\n",
    "        :param n: an integer representing the n in n_gram\n",
    "        :param text: a ndarray holding the dataset of dinosaurs names\n",
    "        :param special_token: a namedtuple with all the special token\n",
    "        :return a dict mapping n_gram to integer and a list mapping it indices to n_gram\n",
    "    \"\"\"\n",
    "    word_to_index = {\n",
    "        (special_token.start, ) * n: 0,\n",
    "        (special_token.end,): 1\n",
    "    }\n",
    "    index_to_word = [special_token.start * n, special_token.end]\n",
    "    j = len(index_to_word)\n",
    "    curr_n_gram = deque(maxlen=n)\n",
    "    for sent in text:\n",
    "        for _ in range(n-1):\n",
    "            curr_n_gram.append(special_token.start)\n",
    "        for i in range(len(sent)):\n",
    "            curr_n_gram.append(sent[i])\n",
    "            word = tuple(curr_n_gram)\n",
    "            if word not in index_to_word:\n",
    "                # word_to_index[word] = len(index_to_word)\n",
    "                word_to_index[word] = j\n",
    "                index_to_word.append(word)\n",
    "                j += 1\n",
    "    return word_to_index, index_to_word"
   ]
  },
  {
   "cell_type": "code",
   "execution_count": 56,
   "metadata": {},
   "outputs": [],
   "source": [
    "def create_n_gram_matrix(n: int, text: np.ndarray, special_token: SpecialToken, word_to_index: dict[str, int], index_to_word: np.ndarray, letter_to_index: dict[str, int]) -> np.ndarray:\n",
    "    \"\"\"\n",
    "        Generate the frequency matrix of letter given an n-gram\n",
    "        :param n: an integer representing the n in n_gram\n",
    "        :param text: The ndaary of word\n",
    "        :param special_token: a namedtuple with all the special token\n",
    "        :param word_to_index: a dict mapping all the n_gram to an integer\n",
    "        :param index_to_word: a ndarray mapping his index to n_gram\n",
    "        :param letter_to_index: a dict mapping all the letter (unigram) to an integer\n",
    "\n",
    "        :return the frequency matrix of letter given an n-gram\n",
    "    \"\"\"\n",
    "    \n",
    "    index_to_word_len = len(index_to_word)\n",
    "    letter_len = len(letter_to_index)\n",
    "    matrix = np.zeros((index_to_word_len, letter_len))\n",
    "    curr_ngram = deque(maxlen=n)\n",
    "    \n",
    "    for word in text:\n",
    "        curr_ngram.clear()\n",
    "        for _ in range(n):\n",
    "            curr_ngram.append(special_token.start)\n",
    "        word_len = len(word)\n",
    "        for i in range(word_len+1):\n",
    "            w = tuple(curr_ngram)\n",
    "            if i == 0:\n",
    "                matrix[word_to_index[w], letter_to_index[word[0]]] += 1\n",
    "                curr_ngram.append(word[i])\n",
    "            elif i == word_len:\n",
    "                pass\n",
    "                # w = \" \".join(word[start_index:i])\n",
    "                # matrix[word_to_index[w], letter_to_index[special_token.end]] += 1\n",
    "            else:\n",
    "                # w = (special_token.start + \" \") * (n-i) + \" \".join(word[start_index:i])\n",
    "                matrix[word_to_index[w], letter_to_index[word[i]]] += 1\n",
    "                curr_ngram.append(word[i])\n",
    "        matrix[word_to_index[w], letter_to_index[(special_token.end,)]] += 1\n",
    "    return matrix"
   ]
  },
  {
   "cell_type": "code",
   "execution_count": 57,
   "metadata": {},
   "outputs": [],
   "source": [
    "def get_next_letter(k: int , matrix: np.ndarray, n_gram_ind: int, index_to_letter: np.ndarray, verbose: int = 0) -> str:\n",
    "    \"\"\"\n",
    "        Get the next letter after the current n_gram.\n",
    "        Select a random letter between the k max element with non-zero probability\n",
    "\n",
    "        :param k: the size of the pool from which we select a random letter\n",
    "        :param matrix: a probability/freq matrix of a letter given an n_gram\n",
    "        :param n_gram_ind: the indice of the n_gram in the frequency/probability matrix\n",
    "        :param index_to_letter: a numpy array mapping integer (indices) to a letter\n",
    "        :param verbose: if 1 print more information that can be used to debug\n",
    "\n",
    "        :return the indice and the letter associated\n",
    "    \"\"\"\n",
    "    line = matrix[n_gram_ind]\n",
    "    ind = np.argpartition(line, -k)[-k:]\n",
    "    new_ind = []\n",
    "    letters = []\n",
    "    for i in ind:\n",
    "        if line[i] > 0:\n",
    "            new_ind.append(i)\n",
    "            letters.append(index_to_letter[i])\n",
    "    new_ind = np.array(new_ind)\n",
    "    if verbose:\n",
    "        print(\"random choice between: {}, with prob: {}\".format(letters, np.take(line, new_ind)))\n",
    "    ind_choosed = np.random.choice(new_ind)\n",
    "    return ind_choosed, index_to_letter[ind_choosed]"
   ]
  },
  {
   "cell_type": "code",
   "execution_count": 58,
   "metadata": {},
   "outputs": [],
   "source": [
    "def generate_name_n_grams(n: int, special_token: SpecialToken, word_to_index: dict[str, int], index_to_letter: np.ndarray, matrix: np.ndarray, max_letter_num: int = 35) -> str:\n",
    "    \"\"\"\n",
    "        Generate a dinosaur name\n",
    "        :param n: the n in n_gram\n",
    "        :param special_token: a namedtuple with all the special token\n",
    "        :param word_to_index: a dict mapping all the n_gram to an integer\n",
    "        :param index_to_letter: a numpy array mapping integer (indices) to a letter\n",
    "        :param matrix: a probability/freq matrix of a letter given an n_gram\n",
    "        :return a string representing a dinosaur name\n",
    "    \"\"\"\n",
    "    k = 5\n",
    "    w = []\n",
    "    curr_ngram = deque(maxlen=n)\n",
    "    for _ in range(n):\n",
    "        curr_ngram.append(special_token.start)\n",
    "    word = []\n",
    "    for i in range(max_letter_num):\n",
    "        w = tuple(curr_ngram)\n",
    "        ind_n_gram = word_to_index[w]\n",
    "        _, letter = get_next_letter(k, matrix, ind_n_gram, index_to_letter)\n",
    "        if letter == special_token.end:\n",
    "            break\n",
    "        word.append(letter)\n",
    "        curr_ngram.append(letter)\n",
    "    word = \"\".join(word)\n",
    "    return word"
   ]
  },
  {
   "cell_type": "code",
   "execution_count": 59,
   "metadata": {},
   "outputs": [],
   "source": [
    "def generate_n_names(names_num: int, n: int, special_token: SpecialToken) -> list[str]:\n",
    "    \"\"\"\n",
    "        Generate n dinosaurs names\n",
    "\n",
    "        :param names_num: number of name to generate\n",
    "        :param n: the n in n_gram\n",
    "        :param special_token: a namedtuple with all the special token\n",
    "        :return a list of generated names\n",
    "    \"\"\"\n",
    "    names = []\n",
    "    letter_to_index, index_to_letter = create_word_index_unigram(special_token)\n",
    "    word_to_index, index_to_word = create_word_index_n_gram(n, data, special_token)\n",
    "    freq_matrix = create_n_gram_matrix(n, data, special_token, word_to_index, index_to_word, letter_to_index)\n",
    "    for i in range(names_num):\n",
    "        names.append(\n",
    "            generate_name_n_grams(n, special_token, word_to_index, index_to_letter, freq_matrix).capitalize()\n",
    "        )\n",
    "    return names"
   ]
  },
  {
   "cell_type": "code",
   "execution_count": 60,
   "metadata": {},
   "outputs": [],
   "source": [
    "result_n_gram = {}"
   ]
  },
  {
   "cell_type": "code",
   "execution_count": 61,
   "metadata": {},
   "outputs": [
    {
     "data": {
      "text/plain": [
       "['Ptisa',\n",
       " 'Anithatitia',\n",
       " 'Tesicas',\n",
       " 'Auruatatitinorua',\n",
       " 'Tichona',\n",
       " 'Phoniasican',\n",
       " 'Sta',\n",
       " 'Phusua',\n",
       " 'Pesisusuna',\n",
       " 'Sititodriatiauca']"
      ]
     },
     "execution_count": 61,
     "metadata": {},
     "output_type": "execute_result"
    }
   ],
   "source": [
    "n = 1\n",
    "num = 100\n",
    "result_n_gram[n] = generate_n_names(num, n, special_token)\n",
    "result_n_gram[n][:10]"
   ]
  },
  {
   "cell_type": "code",
   "execution_count": 62,
   "metadata": {},
   "outputs": [
    {
     "data": {
      "text/plain": [
       "['Canstanseindasuchuanotylursodcrurst',\n",
       " 'Amacrutegasasustracrypodryx',\n",
       " 'Arcumarocole',\n",
       " 'Tops',\n",
       " 'Chon',\n",
       " 'Tocelleyasauracosasstarsodeirangata',\n",
       " 'Conodryphadasiatishonocumatiaon',\n",
       " 'Celusing',\n",
       " 'Pricelucindubicran',\n",
       " 'Cangan']"
      ]
     },
     "execution_count": 62,
     "metadata": {},
     "output_type": "execute_result"
    }
   ],
   "source": [
    "n = 2\n",
    "num = 100\n",
    "result_n_gram[n] = generate_n_names(num, n, special_token)\n",
    "result_n_gram[n][:10]"
   ]
  },
  {
   "cell_type": "code",
   "execution_count": 63,
   "metadata": {},
   "outputs": [
    {
     "data": {
      "text/plain": [
       "['Chonasus',\n",
       " 'Stoscelishanops',\n",
       " 'Aura',\n",
       " 'Calamphyshamopusacisivosauraparalos',\n",
       " 'Auronotosphenopcosuccinocauhcernuso',\n",
       " 'Tethysaltonychodosuchondylosphilano',\n",
       " 'Petonykus',\n",
       " 'Centopusacianssus',\n",
       " 'Shetri',\n",
       " 'Tracisaura']"
      ]
     },
     "execution_count": 63,
     "metadata": {},
     "output_type": "execute_result"
    }
   ],
   "source": [
    "n = 3\n",
    "num = 100\n",
    "result_n_gram[n] = generate_n_names(num, n, special_token)\n",
    "result_n_gram[n][:10]"
   ]
  },
  {
   "cell_type": "code",
   "execution_count": 64,
   "metadata": {},
   "outputs": [
    {
     "data": {
      "text/plain": [
       "['Trachilantorapterostroracervixosaur',\n",
       " 'Siatosauros',\n",
       " 'Triunfosauraechingkankousaurikornit',\n",
       " 'Patagonykus',\n",
       " 'Argyrosaurutitanius',\n",
       " 'Segisauraechinornis',\n",
       " 'Sinus',\n",
       " 'Ammosaicerasauroracervixosaurutitan',\n",
       " 'Timurlengopterosterrholophoneus',\n",
       " 'Creosaurophalangia']"
      ]
     },
     "execution_count": 64,
     "metadata": {},
     "output_type": "execute_result"
    }
   ],
   "source": [
    "n = 4\n",
    "num = 100\n",
    "result_n_gram[n] = generate_n_names(num, n, special_token)\n",
    "result_n_gram[n][:10]"
   ]
  },
  {
   "cell_type": "code",
   "execution_count": 65,
   "metadata": {},
   "outputs": [
    {
     "data": {
      "text/plain": [
       "['Silesaurushypacroscelus',\n",
       " 'Ampelosaura',\n",
       " 'Pelorosaurides',\n",
       " 'Comahuesaurushypacrosauravus',\n",
       " 'Stokesosauriscus',\n",
       " 'Polyonax',\n",
       " 'Segisauruskol',\n",
       " 'Camarasuchus',\n",
       " 'Silesauruskol',\n",
       " 'Pleuropasaurornithomimus']"
      ]
     },
     "execution_count": 65,
     "metadata": {},
     "output_type": "execute_result"
    }
   ],
   "source": [
    "n = 5\n",
    "num = 100\n",
    "result_n_gram[n] = generate_n_names(num, n, special_token)\n",
    "result_n_gram[n][:10]"
   ]
  },
  {
   "cell_type": "code",
   "execution_count": 66,
   "metadata": {},
   "outputs": [
    {
     "data": {
      "text/plain": [
       "['Tototlmimus',\n",
       " 'Strenusauruskol',\n",
       " 'Sinraptorsaurus',\n",
       " 'Stereocephalus',\n",
       " 'Tethyshadrosauravus',\n",
       " 'Alioramus',\n",
       " 'Cerasinops',\n",
       " 'Prenoceratosaurusliubangosaurusliub',\n",
       " 'Shenzhousaurus',\n",
       " 'Aucasaurus']"
      ]
     },
     "execution_count": 66,
     "metadata": {},
     "output_type": "execute_result"
    }
   ],
   "source": [
    "n = 6\n",
    "num = 100\n",
    "result_n_gram[n] = generate_n_names(num, n, special_token)\n",
    "result_n_gram[n][:10]"
   ]
  },
  {
   "cell_type": "markdown",
   "metadata": {},
   "source": [
    "## Result Analysis"
   ]
  },
  {
   "cell_type": "code",
   "execution_count": 67,
   "metadata": {},
   "outputs": [
    {
     "data": {
      "text/html": [
       "<div>\n",
       "<style scoped>\n",
       "    .dataframe tbody tr th:only-of-type {\n",
       "        vertical-align: middle;\n",
       "    }\n",
       "\n",
       "    .dataframe tbody tr th {\n",
       "        vertical-align: top;\n",
       "    }\n",
       "\n",
       "    .dataframe thead th {\n",
       "        text-align: right;\n",
       "    }\n",
       "</style>\n",
       "<table border=\"1\" class=\"dataframe\">\n",
       "  <thead>\n",
       "    <tr style=\"text-align: right;\">\n",
       "      <th></th>\n",
       "      <th>1</th>\n",
       "      <th>2</th>\n",
       "      <th>3</th>\n",
       "      <th>4</th>\n",
       "      <th>5</th>\n",
       "      <th>6</th>\n",
       "    </tr>\n",
       "  </thead>\n",
       "  <tbody>\n",
       "    <tr>\n",
       "      <th>0</th>\n",
       "      <td>Ptisa</td>\n",
       "      <td>Canstanseindasuchuanotylursodcrurst</td>\n",
       "      <td>Chonasus</td>\n",
       "      <td>Trachilantorapterostroracervixosaur</td>\n",
       "      <td>Silesaurushypacroscelus</td>\n",
       "      <td>Tototlmimus</td>\n",
       "    </tr>\n",
       "    <tr>\n",
       "      <th>1</th>\n",
       "      <td>Anithatitia</td>\n",
       "      <td>Amacrutegasasustracrypodryx</td>\n",
       "      <td>Stoscelishanops</td>\n",
       "      <td>Siatosauros</td>\n",
       "      <td>Ampelosaura</td>\n",
       "      <td>Strenusauruskol</td>\n",
       "    </tr>\n",
       "    <tr>\n",
       "      <th>2</th>\n",
       "      <td>Tesicas</td>\n",
       "      <td>Arcumarocole</td>\n",
       "      <td>Aura</td>\n",
       "      <td>Triunfosauraechingkankousaurikornit</td>\n",
       "      <td>Pelorosaurides</td>\n",
       "      <td>Sinraptorsaurus</td>\n",
       "    </tr>\n",
       "    <tr>\n",
       "      <th>3</th>\n",
       "      <td>Auruatatitinorua</td>\n",
       "      <td>Tops</td>\n",
       "      <td>Calamphyshamopusacisivosauraparalos</td>\n",
       "      <td>Patagonykus</td>\n",
       "      <td>Comahuesaurushypacrosauravus</td>\n",
       "      <td>Stereocephalus</td>\n",
       "    </tr>\n",
       "    <tr>\n",
       "      <th>4</th>\n",
       "      <td>Tichona</td>\n",
       "      <td>Chon</td>\n",
       "      <td>Auronotosphenopcosuccinocauhcernuso</td>\n",
       "      <td>Argyrosaurutitanius</td>\n",
       "      <td>Stokesosauriscus</td>\n",
       "      <td>Tethyshadrosauravus</td>\n",
       "    </tr>\n",
       "  </tbody>\n",
       "</table>\n",
       "</div>"
      ],
      "text/plain": [
       "                  1                                    2  \\\n",
       "0             Ptisa  Canstanseindasuchuanotylursodcrurst   \n",
       "1       Anithatitia          Amacrutegasasustracrypodryx   \n",
       "2           Tesicas                         Arcumarocole   \n",
       "3  Auruatatitinorua                                 Tops   \n",
       "4           Tichona                                 Chon   \n",
       "\n",
       "                                     3                                    4  \\\n",
       "0                             Chonasus  Trachilantorapterostroracervixosaur   \n",
       "1                      Stoscelishanops                          Siatosauros   \n",
       "2                                 Aura  Triunfosauraechingkankousaurikornit   \n",
       "3  Calamphyshamopusacisivosauraparalos                          Patagonykus   \n",
       "4  Auronotosphenopcosuccinocauhcernuso                  Argyrosaurutitanius   \n",
       "\n",
       "                              5                    6  \n",
       "0       Silesaurushypacroscelus          Tototlmimus  \n",
       "1                   Ampelosaura      Strenusauruskol  \n",
       "2                Pelorosaurides      Sinraptorsaurus  \n",
       "3  Comahuesaurushypacrosauravus       Stereocephalus  \n",
       "4              Stokesosauriscus  Tethyshadrosauravus  "
      ]
     },
     "execution_count": 67,
     "metadata": {},
     "output_type": "execute_result"
    }
   ],
   "source": [
    "df_gen_name_n_gram = pd.DataFrame(data=result_n_gram)\n",
    "df_gen_name_n_gram.head()"
   ]
  },
  {
   "cell_type": "code",
   "execution_count": 68,
   "metadata": {},
   "outputs": [
    {
     "data": {
      "text/html": [
       "<div>\n",
       "<style scoped>\n",
       "    .dataframe tbody tr th:only-of-type {\n",
       "        vertical-align: middle;\n",
       "    }\n",
       "\n",
       "    .dataframe tbody tr th {\n",
       "        vertical-align: top;\n",
       "    }\n",
       "\n",
       "    .dataframe thead th {\n",
       "        text-align: right;\n",
       "    }\n",
       "</style>\n",
       "<table border=\"1\" class=\"dataframe\">\n",
       "  <thead>\n",
       "    <tr style=\"text-align: right;\">\n",
       "      <th></th>\n",
       "      <th>1</th>\n",
       "      <th>2</th>\n",
       "      <th>3</th>\n",
       "      <th>4</th>\n",
       "      <th>5</th>\n",
       "      <th>6</th>\n",
       "      <th>name_len_1_gram</th>\n",
       "      <th>name_len_2_gram</th>\n",
       "      <th>name_len_3_gram</th>\n",
       "      <th>name_len_4_gram</th>\n",
       "      <th>name_len_5_gram</th>\n",
       "      <th>name_len_6_gram</th>\n",
       "    </tr>\n",
       "  </thead>\n",
       "  <tbody>\n",
       "    <tr>\n",
       "      <th>0</th>\n",
       "      <td>Ptisa</td>\n",
       "      <td>Canstanseindasuchuanotylursodcrurst</td>\n",
       "      <td>Chonasus</td>\n",
       "      <td>Trachilantorapterostroracervixosaur</td>\n",
       "      <td>Silesaurushypacroscelus</td>\n",
       "      <td>Tototlmimus</td>\n",
       "      <td>5</td>\n",
       "      <td>35</td>\n",
       "      <td>8</td>\n",
       "      <td>35</td>\n",
       "      <td>23</td>\n",
       "      <td>11</td>\n",
       "    </tr>\n",
       "    <tr>\n",
       "      <th>1</th>\n",
       "      <td>Anithatitia</td>\n",
       "      <td>Amacrutegasasustracrypodryx</td>\n",
       "      <td>Stoscelishanops</td>\n",
       "      <td>Siatosauros</td>\n",
       "      <td>Ampelosaura</td>\n",
       "      <td>Strenusauruskol</td>\n",
       "      <td>11</td>\n",
       "      <td>27</td>\n",
       "      <td>15</td>\n",
       "      <td>11</td>\n",
       "      <td>11</td>\n",
       "      <td>15</td>\n",
       "    </tr>\n",
       "    <tr>\n",
       "      <th>2</th>\n",
       "      <td>Tesicas</td>\n",
       "      <td>Arcumarocole</td>\n",
       "      <td>Aura</td>\n",
       "      <td>Triunfosauraechingkankousaurikornit</td>\n",
       "      <td>Pelorosaurides</td>\n",
       "      <td>Sinraptorsaurus</td>\n",
       "      <td>7</td>\n",
       "      <td>12</td>\n",
       "      <td>4</td>\n",
       "      <td>35</td>\n",
       "      <td>14</td>\n",
       "      <td>15</td>\n",
       "    </tr>\n",
       "    <tr>\n",
       "      <th>3</th>\n",
       "      <td>Auruatatitinorua</td>\n",
       "      <td>Tops</td>\n",
       "      <td>Calamphyshamopusacisivosauraparalos</td>\n",
       "      <td>Patagonykus</td>\n",
       "      <td>Comahuesaurushypacrosauravus</td>\n",
       "      <td>Stereocephalus</td>\n",
       "      <td>16</td>\n",
       "      <td>4</td>\n",
       "      <td>35</td>\n",
       "      <td>11</td>\n",
       "      <td>28</td>\n",
       "      <td>14</td>\n",
       "    </tr>\n",
       "    <tr>\n",
       "      <th>4</th>\n",
       "      <td>Tichona</td>\n",
       "      <td>Chon</td>\n",
       "      <td>Auronotosphenopcosuccinocauhcernuso</td>\n",
       "      <td>Argyrosaurutitanius</td>\n",
       "      <td>Stokesosauriscus</td>\n",
       "      <td>Tethyshadrosauravus</td>\n",
       "      <td>7</td>\n",
       "      <td>4</td>\n",
       "      <td>35</td>\n",
       "      <td>19</td>\n",
       "      <td>16</td>\n",
       "      <td>19</td>\n",
       "    </tr>\n",
       "  </tbody>\n",
       "</table>\n",
       "</div>"
      ],
      "text/plain": [
       "                  1                                    2  \\\n",
       "0             Ptisa  Canstanseindasuchuanotylursodcrurst   \n",
       "1       Anithatitia          Amacrutegasasustracrypodryx   \n",
       "2           Tesicas                         Arcumarocole   \n",
       "3  Auruatatitinorua                                 Tops   \n",
       "4           Tichona                                 Chon   \n",
       "\n",
       "                                     3                                    4  \\\n",
       "0                             Chonasus  Trachilantorapterostroracervixosaur   \n",
       "1                      Stoscelishanops                          Siatosauros   \n",
       "2                                 Aura  Triunfosauraechingkankousaurikornit   \n",
       "3  Calamphyshamopusacisivosauraparalos                          Patagonykus   \n",
       "4  Auronotosphenopcosuccinocauhcernuso                  Argyrosaurutitanius   \n",
       "\n",
       "                              5                    6  name_len_1_gram  \\\n",
       "0       Silesaurushypacroscelus          Tototlmimus                5   \n",
       "1                   Ampelosaura      Strenusauruskol               11   \n",
       "2                Pelorosaurides      Sinraptorsaurus                7   \n",
       "3  Comahuesaurushypacrosauravus       Stereocephalus               16   \n",
       "4              Stokesosauriscus  Tethyshadrosauravus                7   \n",
       "\n",
       "   name_len_2_gram  name_len_3_gram  name_len_4_gram  name_len_5_gram  \\\n",
       "0               35                8               35               23   \n",
       "1               27               15               11               11   \n",
       "2               12                4               35               14   \n",
       "3                4               35               11               28   \n",
       "4                4               35               19               16   \n",
       "\n",
       "   name_len_6_gram  \n",
       "0               11  \n",
       "1               15  \n",
       "2               15  \n",
       "3               14  \n",
       "4               19  "
      ]
     },
     "execution_count": 68,
     "metadata": {},
     "output_type": "execute_result"
    }
   ],
   "source": [
    "df_gen_name_n_gram[\"name_len_1_gram\"] = df_gen_name_n_gram[1].apply(lambda x: len(x))\n",
    "df_gen_name_n_gram[\"name_len_2_gram\"] = df_gen_name_n_gram[2].apply(lambda x: len(x))\n",
    "df_gen_name_n_gram[\"name_len_3_gram\"] = df_gen_name_n_gram[3].apply(lambda x: len(x))\n",
    "df_gen_name_n_gram[\"name_len_4_gram\"] = df_gen_name_n_gram[4].apply(lambda x: len(x))\n",
    "df_gen_name_n_gram[\"name_len_5_gram\"] = df_gen_name_n_gram[5].apply(lambda x: len(x))\n",
    "df_gen_name_n_gram[\"name_len_6_gram\"] = df_gen_name_n_gram[6].apply(lambda x: len(x))\n",
    "df_gen_name_n_gram.head()"
   ]
  },
  {
   "cell_type": "code",
   "execution_count": 69,
   "metadata": {},
   "outputs": [
    {
     "data": {
      "image/png": "[encoded data removed]",
      "text/plain": [
       "<Figure size 1200x500 with 1 Axes>"
      ]
     },
     "metadata": {},
     "output_type": "display_data"
    }
   ],
   "source": [
    "fig, ax = plt.subplots(figsize=(12,5))\n",
    "bp = df_gen_name_n_gram.boxplot(column=[\"name_len_1_gram\", \"name_len_2_gram\", \"name_len_3_gram\", \"name_len_4_gram\", \"name_len_5_gram\", \"name_len_6_gram\"])\n",
    "ax.set_title(\"name length n-gram\")\n",
    "fig.savefig(os.path.join(save_plot_dir, \"n_gram_name_length.svg\"), format=\"svg\")\n",
    "plt.show()"
   ]
  },
  {
   "cell_type": "code",
   "execution_count": 70,
   "metadata": {},
   "outputs": [
    {
     "data": {
      "text/plain": [
       "count    100.000000\n",
       "mean      11.180000\n",
       "std        9.182086\n",
       "min        1.000000\n",
       "25%        4.000000\n",
       "50%        8.000000\n",
       "75%       15.250000\n",
       "max       35.000000\n",
       "Name: name_len_1_gram, dtype: float64"
      ]
     },
     "execution_count": 70,
     "metadata": {},
     "output_type": "execute_result"
    }
   ],
   "source": [
    "df_gen_name_n_gram[\"name_len_1_gram\"].describe()"
   ]
  },
  {
   "cell_type": "code",
   "execution_count": 71,
   "metadata": {},
   "outputs": [
    {
     "data": {
      "text/plain": [
       "count    100.000000\n",
       "mean      17.700000\n",
       "std       11.392448\n",
       "min        2.000000\n",
       "25%        8.000000\n",
       "50%       15.000000\n",
       "75%       30.000000\n",
       "max       35.000000\n",
       "Name: name_len_2_gram, dtype: float64"
      ]
     },
     "execution_count": 71,
     "metadata": {},
     "output_type": "execute_result"
    }
   ],
   "source": [
    "df_gen_name_n_gram[\"name_len_2_gram\"].describe()"
   ]
  },
  {
   "cell_type": "code",
   "execution_count": 72,
   "metadata": {},
   "outputs": [
    {
     "data": {
      "text/plain": [
       "count    100.000000\n",
       "mean      20.670000\n",
       "std       11.856086\n",
       "min        3.000000\n",
       "25%       10.000000\n",
       "50%       17.500000\n",
       "75%       35.000000\n",
       "max       35.000000\n",
       "Name: name_len_3_gram, dtype: float64"
      ]
     },
     "execution_count": 72,
     "metadata": {},
     "output_type": "execute_result"
    }
   ],
   "source": [
    "df_gen_name_n_gram[\"name_len_3_gram\"].describe()"
   ]
  },
  {
   "cell_type": "code",
   "execution_count": 73,
   "metadata": {},
   "outputs": [
    {
     "data": {
      "text/plain": [
       "count    100.000000\n",
       "mean      19.050000\n",
       "std        9.773573\n",
       "min        4.000000\n",
       "25%       11.000000\n",
       "50%       17.000000\n",
       "75%       29.000000\n",
       "max       35.000000\n",
       "Name: name_len_4_gram, dtype: float64"
      ]
     },
     "execution_count": 73,
     "metadata": {},
     "output_type": "execute_result"
    }
   ],
   "source": [
    "df_gen_name_n_gram[\"name_len_4_gram\"].describe()"
   ]
  },
  {
   "cell_type": "code",
   "execution_count": 74,
   "metadata": {},
   "outputs": [
    {
     "data": {
      "text/plain": [
       "count    100.000000\n",
       "mean      15.410000\n",
       "std        6.215157\n",
       "min        4.000000\n",
       "25%       11.000000\n",
       "50%       14.000000\n",
       "75%       20.000000\n",
       "max       35.000000\n",
       "Name: name_len_5_gram, dtype: float64"
      ]
     },
     "execution_count": 74,
     "metadata": {},
     "output_type": "execute_result"
    }
   ],
   "source": [
    "df_gen_name_n_gram[\"name_len_5_gram\"].describe()"
   ]
  },
  {
   "cell_type": "code",
   "execution_count": 75,
   "metadata": {},
   "outputs": [
    {
     "data": {
      "text/plain": [
       "count    100.000000\n",
       "mean      16.450000\n",
       "std        8.571005\n",
       "min        5.000000\n",
       "25%       11.000000\n",
       "50%       13.000000\n",
       "75%       19.250000\n",
       "max       35.000000\n",
       "Name: name_len_6_gram, dtype: float64"
      ]
     },
     "execution_count": 75,
     "metadata": {},
     "output_type": "execute_result"
    }
   ],
   "source": [
    "df_gen_name_n_gram[\"name_len_6_gram\"].describe()"
   ]
  },
  {
   "cell_type": "markdown",
   "metadata": {},
   "source": [
    "- For unigram (1-gram) 50% of the generated name length are in [4, 16]\n",
    "- For bigram (2-gram) 50% of the generated name length are in [8, 32]\n",
    "- For trigram (3-gram) 50% of the generated name length are in [12, 35]\n",
    "- For (4-gram) 50% of the generated name length are in [9, 23]\n",
    "- For (5-gram) 50% of the generated name length are in [11, 17]\n",
    "- For (6-gram) 50% of the generated name length are in [10, 25]\n",
    "\n",
    "The n-gram models implemented doesn't learn the statistical effect in the original dataset never nevertheless 5-gram and 6-gram seemsto be giving good results.\n",
    "\n",
    "We observe that unigram and bigrams doesn't give us good results, we suspect that it is due to the lack of context. Unigram only use previous letter and bigram use 2 letters at position i-1 and i-2.\n",
    "\n",
    "We also observe that the model tend to be better with the increase of n. n = 5 and n = 6 give believable names."
   ]
  },
  {
   "cell_type": "markdown",
   "metadata": {},
   "source": [
    "## Model 2: Deep Learning Model"
   ]
  },
  {
   "cell_type": "markdown",
   "metadata": {},
   "source": [
    "**Description of training process:**\n",
    "\n",
    "We have a dataset of dinosaur name, to train a deep learning model to generate new name we will split dinosaur name in sequence of length __seq_len__ and train our model to predict the next letter of the sequence. Example if we take the dinosaur name __Aachenosaurus__ and a __seq_len__ = 6 we will split it in ['\\<START>aache', 'aachen',  'acheno', 'chenos', 'henosa', 'enosau', 'nosaur', 'osauru', 'saurus'] and our y will be ['n', 'o', 's', 'a', 'u', 'r', 'u', 's', '\\<END>']\n",
    "\n",
    "We add the special token \\<START> and \\<END> so that the model learn their special meaning when we give \\<START> to a model it will start generating a sequence and \\<END> means it has finish generating a sequence"
   ]
  },
  {
   "cell_type": "code",
   "execution_count": 76,
   "metadata": {},
   "outputs": [],
   "source": [
    "def add_special_token(special_token: SpecialToken, data: np.ndarray) -> np.ndarray:\n",
    "    \"\"\"\n",
    "        Add Special token to all lines in data\n",
    "        :param special_token: a namedtuple with all the special token\n",
    "        :param data: ndarray holding the lines to which we will add the special_tokens\n",
    "        :return ndarray holding the modified lines \n",
    "    \"\"\"\n",
    "    def add_start_and_end(lines):\n",
    "        result = []\n",
    "        for line in lines:\n",
    "            result.append(special_token.start + line + special_token.end)\n",
    "        return result\n",
    "    return np.apply_along_axis(add_start_and_end, 0, data)"
   ]
  },
  {
   "cell_type": "code",
   "execution_count": 77,
   "metadata": {},
   "outputs": [],
   "source": [
    "def generate_letter_to_index(special_token: SpecialToken) -> tuple[dict[str, int], np.ndarray]:\n",
    "    \"\"\"\n",
    "        :param special_token: a namedtuple with all the special token\n",
    "        :return a dict mapping letter to integer and a list mapping it indices to a letter\n",
    "    \"\"\"\n",
    "    word_to_index = {\n",
    "        special_token.start: 0,\n",
    "        special_token.end: 1\n",
    "    }\n",
    "    index_to_word = [special_token.start, special_token.end]\n",
    "    i = 2\n",
    "    for letter in ascii_lowercase:\n",
    "        word_to_index[letter] = i\n",
    "        index_to_word.append(letter)\n",
    "        i += 1\n",
    "\n",
    "    return word_to_index, index_to_word"
   ]
  },
  {
   "cell_type": "code",
   "execution_count": 78,
   "metadata": {},
   "outputs": [],
   "source": [
    "def build_model(num_labels, vocab_len, embedding_size, dropout_rate):\n",
    "    inputs = tf.keras.layers.Input(shape=(None,) )\n",
    "    x = tf.keras.layers.Embedding(vocab_len, embedding_size)(inputs)\n",
    "    x = tf.keras.layers.Bidirectional(\n",
    "        tf.keras.layers.LSTM(100, return_sequences=False)\n",
    "    )(x)\n",
    "    x = tf.keras.layers.Dropout(dropout_rate)(x)\n",
    "    x = tf.keras.layers.Dense(75, activation=\"relu\")(x)\n",
    "    output = tf.keras.layers.Dense(num_labels, activation=\"softmax\")(x)\n",
    "    return tf.keras.Model(inputs=inputs, outputs=output)"
   ]
  },
  {
   "cell_type": "code",
   "execution_count": 79,
   "metadata": {},
   "outputs": [],
   "source": [
    "char_to_idx, idx_to_char = generate_letter_to_index(special_token)   "
   ]
  },
  {
   "cell_type": "code",
   "execution_count": 80,
   "metadata": {},
   "outputs": [],
   "source": [
    "def build_sequence(seq_len :int, data:np.ndarray) -> tuple[np.ndarray, np.ndarray]:\n",
    "    sequences = []\n",
    "    next_chars = []\n",
    "    for name in data:\n",
    "        name_len = len(name)\n",
    "        for i in range(name_len - seq_len + 2):\n",
    "            if i == 0:\n",
    "                sequences.append(special_token.start + name[:i + seq_len - 1])\n",
    "                if name_len + 1 == seq_len:\n",
    "                    next_chars.append(special_token.end)\n",
    "                    break\n",
    "                next_chars.append(name[i + seq_len - 1])\n",
    "            elif i == name_len - seq_len + 1:\n",
    "                sequences.append(name[i - 1:])\n",
    "                next_chars.append(special_token.end)\n",
    "            else:\n",
    "                sequences.append(name[i - 1: i + seq_len - 1])\n",
    "                next_chars.append(name[i + seq_len - 1])\n",
    "    sequences = np.array(sequences)\n",
    "    next_chars = np.array(next_chars)\n",
    "    return sequences, next_chars"
   ]
  },
  {
   "cell_type": "code",
   "execution_count": 81,
   "metadata": {},
   "outputs": [],
   "source": [
    "# sequences, next_chars = build_sequence(6, data)\n",
    "# sequences[:10]"
   ]
  },
  {
   "cell_type": "code",
   "execution_count": 82,
   "metadata": {},
   "outputs": [],
   "source": [
    " # next_chars[:10]"
   ]
  },
  {
   "cell_type": "code",
   "execution_count": 83,
   "metadata": {},
   "outputs": [],
   "source": [
    "# We construct our training dataset\n",
    "def convert_seq_to_dataset(sequences: np.ndarray, next_chars: np.ndarray, char_to_idx: dict[str, int]) -> tuple[np.ndarray, np.ndarray]:\n",
    "    \"\"\"\n",
    "        Construction of our training dataset\n",
    "    \"\"\"\n",
    "    \n",
    "    X = []\n",
    "    for seq in sequences:\n",
    "        new_seq = seq\n",
    "        word = []\n",
    "        end = False\n",
    "        if special_token.start in seq:\n",
    "            new_seq = seq[7:]\n",
    "            word.append(char_to_idx[special_token.start])\n",
    "        if special_token.end in seq:\n",
    "            new_seq = seq[:-5]\n",
    "            end = True\n",
    "        for char in new_seq:\n",
    "            word.append(char_to_idx[char])\n",
    "        if end:\n",
    "            word.append(char_to_idx[special_token.end])\n",
    "        X.append(word)\n",
    "    X = np.array(X)\n",
    "    y = np.array([char_to_idx[char] for char in next_chars])\n",
    "    return X, y"
   ]
  },
  {
   "cell_type": "code",
   "execution_count": 84,
   "metadata": {},
   "outputs": [],
   "source": [
    "def build_dataset(seq_len, data, char_to_idx):\n",
    "    sequences, next_chars = build_sequence(seq_len, data)\n",
    "    X, y = convert_seq_to_dataset(sequences, next_chars, char_to_idx)\n",
    "    return X, y"
   ]
  },
  {
   "cell_type": "code",
   "execution_count": 85,
   "metadata": {},
   "outputs": [
    {
     "name": "stdout",
     "output_type": "stream",
     "text": [
      "X shape:  (12134, 6)\n",
      "y shape:  (12134,)\n"
     ]
    }
   ],
   "source": [
    "seq_len = 6\n",
    "X, y = build_dataset(seq_len, data, char_to_idx)\n",
    "print(\"X shape: \", X.shape)\n",
    "print(\"y shape: \", y.shape)"
   ]
  },
  {
   "cell_type": "code",
   "execution_count": 86,
   "metadata": {},
   "outputs": [
    {
     "data": {
      "text/plain": [
       "array([[ 0,  2,  2,  4,  9,  6],\n",
       "       [ 2,  2,  4,  9,  6, 15],\n",
       "       [ 2,  4,  9,  6, 15, 16],\n",
       "       [ 4,  9,  6, 15, 16, 20],\n",
       "       [ 9,  6, 15, 16, 20,  2]])"
      ]
     },
     "execution_count": 86,
     "metadata": {},
     "output_type": "execute_result"
    }
   ],
   "source": [
    "X[:5]"
   ]
  },
  {
   "cell_type": "code",
   "execution_count": 87,
   "metadata": {},
   "outputs": [
    {
     "data": {
      "text/plain": [
       "array([15, 16, 20,  2, 22])"
      ]
     },
     "execution_count": 87,
     "metadata": {},
     "output_type": "execute_result"
    }
   ],
   "source": [
    "y[:5]"
   ]
  },
  {
   "cell_type": "code",
   "execution_count": 88,
   "metadata": {},
   "outputs": [
    {
     "name": "stderr",
     "output_type": "stream",
     "text": [
      "WARNING: All log messages before absl::InitializeLog() is called are written to STDERR\n",
      "I0000 00:00:1730249785.957070  666828 cuda_executor.cc:1015] successful NUMA node read from SysFS had negative value (-1), but there must be at least one NUMA node, so returning NUMA node zero. See more at https://github.com/torvalds/linux/blob/v6.0/Documentation/ABI/testing/sysfs-bus-pci#L344-L355\n",
      "2024-10-30 01:56:25.958196: W tensorflow/core/common_runtime/gpu/gpu_device.cc:2343] Cannot dlopen some GPU libraries. Please make sure the missing libraries mentioned above are installed properly if you would like to use GPU. Follow the guide at https://www.tensorflow.org/install/gpu for how to download and setup the required libraries for your platform.\n",
      "Skipping registering GPU devices...\n"
     ]
    }
   ],
   "source": [
    "embedding_size = 10\n",
    "dropout_rate = 0.2\n",
    "vocab_len = len(idx_to_char)\n",
    "label_num = len(idx_to_char)\n",
    "model = build_model(label_num, vocab_len, embedding_size, dropout_rate)\n",
    "model.compile(\n",
    "    optimizer=\"adam\",\n",
    "    metrics =[\"accuracy\"], \n",
    "    loss=\"sparse_categorical_crossentropy\"\n",
    "    \n",
    ")"
   ]
  },
  {
   "cell_type": "code",
   "execution_count": 89,
   "metadata": {},
   "outputs": [
    {
     "data": {
      "image/png": "[encoded data removed]",
      "text/plain": [
       "<IPython.core.display.Image object>"
      ]
     },
     "execution_count": 89,
     "metadata": {},
     "output_type": "execute_result"
    }
   ],
   "source": [
    "plot_model(\n",
    "    model,\n",
    "    show_shapes=True,\n",
    "    show_dtype=False,\n",
    "    show_layer_names=True,\n",
    "    show_layer_activations=True,\n",
    "    to_file = os.path.join(save_plot_dir, \"deep_learning_model_structure.png\")\n",
    ")"
   ]
  },
  {
   "cell_type": "code",
   "execution_count": 90,
   "metadata": {},
   "outputs": [],
   "source": [
    "epochs = 80\n",
    "batch_size = 64"
   ]
  },
  {
   "cell_type": "code",
   "execution_count": 91,
   "metadata": {},
   "outputs": [
    {
     "name": "stdout",
     "output_type": "stream",
     "text": [
      "Epoch 1/80\n"
     ]
    },
    {
     "name": "stdout",
     "output_type": "stream",
     "text": [
      "\u001b[1m152/152\u001b[0m \u001b[32m━━━━━━━━━━━━━━━━━━━━\u001b[0m\u001b[37m\u001b[0m \u001b[1m5s\u001b[0m 14ms/step - accuracy: 0.1629 - loss: 2.8293 - val_accuracy: 0.2806 - val_loss: 2.3091\n",
      "Epoch 2/80\n",
      "\u001b[1m152/152\u001b[0m \u001b[32m━━━━━━━━━━━━━━━━━━━━\u001b[0m\u001b[37m\u001b[0m \u001b[1m2s\u001b[0m 11ms/step - accuracy: 0.3594 - loss: 2.1340 - val_accuracy: 0.4850 - val_loss: 1.8261\n",
      "Epoch 3/80\n",
      "\u001b[1m152/152\u001b[0m \u001b[32m━━━━━━━━━━━━━━━━━━━━\u001b[0m\u001b[37m\u001b[0m \u001b[1m2s\u001b[0m 11ms/step - accuracy: 0.5251 - loss: 1.6818 - val_accuracy: 0.4994 - val_loss: 1.6718\n",
      "Epoch 4/80\n",
      "\u001b[1m152/152\u001b[0m \u001b[32m━━━━━━━━━━━━━━━━━━━━\u001b[0m\u001b[37m\u001b[0m \u001b[1m2s\u001b[0m 14ms/step - accuracy: 0.5279 - loss: 1.6006 - val_accuracy: 0.5126 - val_loss: 1.5985\n",
      "Epoch 5/80\n",
      "\u001b[1m152/152\u001b[0m \u001b[32m━━━━━━━━━━━━━━━━━━━━\u001b[0m\u001b[37m\u001b[0m \u001b[1m2s\u001b[0m 12ms/step - accuracy: 0.5493 - loss: 1.5127 - val_accuracy: 0.5480 - val_loss: 1.5606\n",
      "Epoch 6/80\n",
      "\u001b[1m152/152\u001b[0m \u001b[32m━━━━━━━━━━━━━━━━━━━━\u001b[0m\u001b[37m\u001b[0m \u001b[1m2s\u001b[0m 12ms/step - accuracy: 0.5717 - loss: 1.4586 - val_accuracy: 0.5459 - val_loss: 1.5243\n",
      "Epoch 7/80\n",
      "\u001b[1m152/152\u001b[0m \u001b[32m━━━━━━━━━━━━━━━━━━━━\u001b[0m\u001b[37m\u001b[0m \u001b[1m2s\u001b[0m 11ms/step - accuracy: 0.5719 - loss: 1.4516 - val_accuracy: 0.5620 - val_loss: 1.4876\n",
      "Epoch 8/80\n",
      "\u001b[1m152/152\u001b[0m \u001b[32m━━━━━━━━━━━━━━━━━━━━\u001b[0m\u001b[37m\u001b[0m \u001b[1m2s\u001b[0m 11ms/step - accuracy: 0.5879 - loss: 1.4038 - val_accuracy: 0.5670 - val_loss: 1.4506\n",
      "Epoch 9/80\n",
      "\u001b[1m152/152\u001b[0m \u001b[32m━━━━━━━━━━━━━━━━━━━━\u001b[0m\u001b[37m\u001b[0m \u001b[1m2s\u001b[0m 11ms/step - accuracy: 0.5931 - loss: 1.3576 - val_accuracy: 0.5913 - val_loss: 1.4217\n",
      "Epoch 10/80\n",
      "\u001b[1m152/152\u001b[0m \u001b[32m━━━━━━━━━━━━━━━━━━━━\u001b[0m\u001b[37m\u001b[0m \u001b[1m2s\u001b[0m 11ms/step - accuracy: 0.6136 - loss: 1.3271 - val_accuracy: 0.6016 - val_loss: 1.3842\n",
      "Epoch 11/80\n",
      "\u001b[1m152/152\u001b[0m \u001b[32m━━━━━━━━━━━━━━━━━━━━\u001b[0m\u001b[37m\u001b[0m \u001b[1m2s\u001b[0m 12ms/step - accuracy: 0.6204 - loss: 1.3044 - val_accuracy: 0.6086 - val_loss: 1.3561\n",
      "Epoch 12/80\n",
      "\u001b[1m152/152\u001b[0m \u001b[32m━━━━━━━━━━━━━━━━━━━━\u001b[0m\u001b[37m\u001b[0m \u001b[1m2s\u001b[0m 12ms/step - accuracy: 0.6278 - loss: 1.2761 - val_accuracy: 0.6160 - val_loss: 1.3360\n",
      "Epoch 13/80\n",
      "\u001b[1m152/152\u001b[0m \u001b[32m━━━━━━━━━━━━━━━━━━━━\u001b[0m\u001b[37m\u001b[0m \u001b[1m2s\u001b[0m 11ms/step - accuracy: 0.6381 - loss: 1.2207 - val_accuracy: 0.6296 - val_loss: 1.3042\n",
      "Epoch 14/80\n",
      "\u001b[1m152/152\u001b[0m \u001b[32m━━━━━━━━━━━━━━━━━━━━\u001b[0m\u001b[37m\u001b[0m \u001b[1m2s\u001b[0m 11ms/step - accuracy: 0.6494 - loss: 1.2158 - val_accuracy: 0.6399 - val_loss: 1.2907\n",
      "Epoch 15/80\n",
      "\u001b[1m152/152\u001b[0m \u001b[32m━━━━━━━━━━━━━━━━━━━━\u001b[0m\u001b[37m\u001b[0m \u001b[1m2s\u001b[0m 11ms/step - accuracy: 0.6577 - loss: 1.1777 - val_accuracy: 0.6436 - val_loss: 1.2677\n",
      "Epoch 16/80\n",
      "\u001b[1m152/152\u001b[0m \u001b[32m━━━━━━━━━━━━━━━━━━━━\u001b[0m\u001b[37m\u001b[0m \u001b[1m2s\u001b[0m 12ms/step - accuracy: 0.6745 - loss: 1.1186 - val_accuracy: 0.6461 - val_loss: 1.2679\n",
      "Epoch 17/80\n",
      "\u001b[1m152/152\u001b[0m \u001b[32m━━━━━━━━━━━━━━━━━━━━\u001b[0m\u001b[37m\u001b[0m \u001b[1m2s\u001b[0m 12ms/step - accuracy: 0.6715 - loss: 1.1206 - val_accuracy: 0.6597 - val_loss: 1.2495\n",
      "Epoch 18/80\n",
      "\u001b[1m152/152\u001b[0m \u001b[32m━━━━━━━━━━━━━━━━━━━━\u001b[0m\u001b[37m\u001b[0m \u001b[1m2s\u001b[0m 11ms/step - accuracy: 0.6788 - loss: 1.0871 - val_accuracy: 0.6568 - val_loss: 1.2377\n",
      "Epoch 19/80\n",
      "\u001b[1m152/152\u001b[0m \u001b[32m━━━━━━━━━━━━━━━━━━━━\u001b[0m\u001b[37m\u001b[0m \u001b[1m2s\u001b[0m 11ms/step - accuracy: 0.6786 - loss: 1.0878 - val_accuracy: 0.6560 - val_loss: 1.2334\n",
      "Epoch 20/80\n",
      "\u001b[1m152/152\u001b[0m \u001b[32m━━━━━━━━━━━━━━━━━━━━\u001b[0m\u001b[37m\u001b[0m \u001b[1m2s\u001b[0m 11ms/step - accuracy: 0.6950 - loss: 1.0264 - val_accuracy: 0.6580 - val_loss: 1.2365\n",
      "Epoch 21/80\n",
      "\u001b[1m152/152\u001b[0m \u001b[32m━━━━━━━━━━━━━━━━━━━━\u001b[0m\u001b[37m\u001b[0m \u001b[1m2s\u001b[0m 12ms/step - accuracy: 0.6995 - loss: 1.0022 - val_accuracy: 0.6535 - val_loss: 1.2295\n",
      "Epoch 22/80\n",
      "\u001b[1m152/152\u001b[0m \u001b[32m━━━━━━━━━━━━━━━━━━━━\u001b[0m\u001b[37m\u001b[0m \u001b[1m2s\u001b[0m 11ms/step - accuracy: 0.7092 - loss: 1.0002 - val_accuracy: 0.6593 - val_loss: 1.2144\n",
      "Epoch 23/80\n",
      "\u001b[1m152/152\u001b[0m \u001b[32m━━━━━━━━━━━━━━━━━━━━\u001b[0m\u001b[37m\u001b[0m \u001b[1m2s\u001b[0m 11ms/step - accuracy: 0.7043 - loss: 0.9899 - val_accuracy: 0.6650 - val_loss: 1.2095\n",
      "Epoch 24/80\n",
      "\u001b[1m152/152\u001b[0m \u001b[32m━━━━━━━━━━━━━━━━━━━━\u001b[0m\u001b[37m\u001b[0m \u001b[1m2s\u001b[0m 11ms/step - accuracy: 0.7039 - loss: 0.9758 - val_accuracy: 0.6646 - val_loss: 1.2222\n",
      "Epoch 25/80\n",
      "\u001b[1m152/152\u001b[0m \u001b[32m━━━━━━━━━━━━━━━━━━━━\u001b[0m\u001b[37m\u001b[0m \u001b[1m2s\u001b[0m 11ms/step - accuracy: 0.7130 - loss: 0.9547 - val_accuracy: 0.6667 - val_loss: 1.2165\n",
      "Epoch 26/80\n",
      "\u001b[1m152/152\u001b[0m \u001b[32m━━━━━━━━━━━━━━━━━━━━\u001b[0m\u001b[37m\u001b[0m \u001b[1m2s\u001b[0m 12ms/step - accuracy: 0.7268 - loss: 0.9262 - val_accuracy: 0.6667 - val_loss: 1.2174\n",
      "Epoch 27/80\n",
      "\u001b[1m152/152\u001b[0m \u001b[32m━━━━━━━━━━━━━━━━━━━━\u001b[0m\u001b[37m\u001b[0m \u001b[1m2s\u001b[0m 11ms/step - accuracy: 0.7256 - loss: 0.9074 - val_accuracy: 0.6613 - val_loss: 1.2123\n",
      "Epoch 28/80\n",
      "\u001b[1m152/152\u001b[0m \u001b[32m━━━━━━━━━━━━━━━━━━━━\u001b[0m\u001b[37m\u001b[0m \u001b[1m2s\u001b[0m 12ms/step - accuracy: 0.7282 - loss: 0.8946 - val_accuracy: 0.6696 - val_loss: 1.2218\n",
      "Epoch 29/80\n",
      "\u001b[1m152/152\u001b[0m \u001b[32m━━━━━━━━━━━━━━━━━━━━\u001b[0m\u001b[37m\u001b[0m \u001b[1m2s\u001b[0m 11ms/step - accuracy: 0.7359 - loss: 0.8697 - val_accuracy: 0.6630 - val_loss: 1.2367\n",
      "Epoch 30/80\n",
      "\u001b[1m152/152\u001b[0m \u001b[32m━━━━━━━━━━━━━━━━━━━━\u001b[0m\u001b[37m\u001b[0m \u001b[1m2s\u001b[0m 12ms/step - accuracy: 0.7434 - loss: 0.8423 - val_accuracy: 0.6724 - val_loss: 1.2343\n",
      "Epoch 31/80\n",
      "\u001b[1m152/152\u001b[0m \u001b[32m━━━━━━━━━━━━━━━━━━━━\u001b[0m\u001b[37m\u001b[0m \u001b[1m2s\u001b[0m 11ms/step - accuracy: 0.7391 - loss: 0.8479 - val_accuracy: 0.6650 - val_loss: 1.2361\n",
      "Epoch 32/80\n",
      "\u001b[1m152/152\u001b[0m \u001b[32m━━━━━━━━━━━━━━━━━━━━\u001b[0m\u001b[37m\u001b[0m \u001b[1m2s\u001b[0m 11ms/step - accuracy: 0.7549 - loss: 0.7947 - val_accuracy: 0.6708 - val_loss: 1.2418\n",
      "Epoch 33/80\n",
      "\u001b[1m152/152\u001b[0m \u001b[32m━━━━━━━━━━━━━━━━━━━━\u001b[0m\u001b[37m\u001b[0m \u001b[1m2s\u001b[0m 11ms/step - accuracy: 0.7583 - loss: 0.7809 - val_accuracy: 0.6663 - val_loss: 1.2506\n",
      "Epoch 34/80\n",
      "\u001b[1m152/152\u001b[0m \u001b[32m━━━━━━━━━━━━━━━━━━━━\u001b[0m\u001b[37m\u001b[0m \u001b[1m2s\u001b[0m 12ms/step - accuracy: 0.7632 - loss: 0.7794 - val_accuracy: 0.6724 - val_loss: 1.2738\n",
      "Epoch 35/80\n",
      "\u001b[1m152/152\u001b[0m \u001b[32m━━━━━━━━━━━━━━━━━━━━\u001b[0m\u001b[37m\u001b[0m \u001b[1m2s\u001b[0m 11ms/step - accuracy: 0.7785 - loss: 0.7374 - val_accuracy: 0.6663 - val_loss: 1.2754\n",
      "Epoch 36/80\n",
      "\u001b[1m152/152\u001b[0m \u001b[32m━━━━━━━━━━━━━━━━━━━━\u001b[0m\u001b[37m\u001b[0m \u001b[1m2s\u001b[0m 12ms/step - accuracy: 0.7683 - loss: 0.7496 - val_accuracy: 0.6696 - val_loss: 1.2831\n",
      "Epoch 37/80\n",
      "\u001b[1m152/152\u001b[0m \u001b[32m━━━━━━━━━━━━━━━━━━━━\u001b[0m\u001b[37m\u001b[0m \u001b[1m2s\u001b[0m 12ms/step - accuracy: 0.7667 - loss: 0.7172 - val_accuracy: 0.6716 - val_loss: 1.2687\n",
      "Epoch 38/80\n",
      "\u001b[1m152/152\u001b[0m \u001b[32m━━━━━━━━━━━━━━━━━━━━\u001b[0m\u001b[37m\u001b[0m \u001b[1m2s\u001b[0m 12ms/step - accuracy: 0.7917 - loss: 0.6691 - val_accuracy: 0.6667 - val_loss: 1.2842\n",
      "Epoch 39/80\n",
      "\u001b[1m152/152\u001b[0m \u001b[32m━━━━━━━━━━━━━━━━━━━━\u001b[0m\u001b[37m\u001b[0m \u001b[1m2s\u001b[0m 11ms/step - accuracy: 0.7934 - loss: 0.6645 - val_accuracy: 0.6646 - val_loss: 1.2997\n",
      "Epoch 40/80\n",
      "\u001b[1m152/152\u001b[0m \u001b[32m━━━━━━━━━━━━━━━━━━━━\u001b[0m\u001b[37m\u001b[0m \u001b[1m2s\u001b[0m 11ms/step - accuracy: 0.7997 - loss: 0.6404 - val_accuracy: 0.6708 - val_loss: 1.3143\n",
      "Epoch 41/80\n",
      "\u001b[1m152/152\u001b[0m \u001b[32m━━━━━━━━━━━━━━━━━━━━\u001b[0m\u001b[37m\u001b[0m \u001b[1m2s\u001b[0m 11ms/step - accuracy: 0.7922 - loss: 0.6546 - val_accuracy: 0.6658 - val_loss: 1.3390\n",
      "Epoch 42/80\n",
      "\u001b[1m152/152\u001b[0m \u001b[32m━━━━━━━━━━━━━━━━━━━━\u001b[0m\u001b[37m\u001b[0m \u001b[1m2s\u001b[0m 12ms/step - accuracy: 0.8083 - loss: 0.6219 - val_accuracy: 0.6621 - val_loss: 1.3502\n",
      "Epoch 43/80\n",
      "\u001b[1m152/152\u001b[0m \u001b[32m━━━━━━━━━━━━━━━━━━━━\u001b[0m\u001b[37m\u001b[0m \u001b[1m2s\u001b[0m 11ms/step - accuracy: 0.8182 - loss: 0.5941 - val_accuracy: 0.6634 - val_loss: 1.3587\n",
      "Epoch 44/80\n",
      "\u001b[1m152/152\u001b[0m \u001b[32m━━━━━━━━━━━━━━━━━━━━\u001b[0m\u001b[37m\u001b[0m \u001b[1m2s\u001b[0m 11ms/step - accuracy: 0.8108 - loss: 0.5974 - val_accuracy: 0.6691 - val_loss: 1.3724\n",
      "Epoch 45/80\n",
      "\u001b[1m152/152\u001b[0m \u001b[32m━━━━━━━━━━━━━━━━━━━━\u001b[0m\u001b[37m\u001b[0m \u001b[1m2s\u001b[0m 11ms/step - accuracy: 0.8180 - loss: 0.5710 - val_accuracy: 0.6667 - val_loss: 1.3768\n",
      "Epoch 46/80\n",
      "\u001b[1m152/152\u001b[0m \u001b[32m━━━━━━━━━━━━━━━━━━━━\u001b[0m\u001b[37m\u001b[0m \u001b[1m2s\u001b[0m 13ms/step - accuracy: 0.8225 - loss: 0.5636 - val_accuracy: 0.6634 - val_loss: 1.3864\n",
      "Epoch 47/80\n",
      "\u001b[1m152/152\u001b[0m \u001b[32m━━━━━━━━━━━━━━━━━━━━\u001b[0m\u001b[37m\u001b[0m \u001b[1m2s\u001b[0m 12ms/step - accuracy: 0.8363 - loss: 0.5295 - val_accuracy: 0.6630 - val_loss: 1.4120\n",
      "Epoch 48/80\n",
      "\u001b[1m152/152\u001b[0m \u001b[32m━━━━━━━━━━━━━━━━━━━━\u001b[0m\u001b[37m\u001b[0m \u001b[1m2s\u001b[0m 11ms/step - accuracy: 0.8295 - loss: 0.5231 - val_accuracy: 0.6613 - val_loss: 1.4396\n",
      "Epoch 49/80\n",
      "\u001b[1m152/152\u001b[0m \u001b[32m━━━━━━━━━━━━━━━━━━━━\u001b[0m\u001b[37m\u001b[0m \u001b[1m2s\u001b[0m 11ms/step - accuracy: 0.8308 - loss: 0.5090 - val_accuracy: 0.6683 - val_loss: 1.4306\n",
      "Epoch 50/80\n",
      "\u001b[1m152/152\u001b[0m \u001b[32m━━━━━━━━━━━━━━━━━━━━\u001b[0m\u001b[37m\u001b[0m \u001b[1m2s\u001b[0m 11ms/step - accuracy: 0.8458 - loss: 0.4862 - val_accuracy: 0.6642 - val_loss: 1.4389\n"
     ]
    }
   ],
   "source": [
    "callbacks = [\n",
    "    # To try to prevent overfitting\n",
    "    tf.keras.callbacks.EarlyStopping(\n",
    "        monitor=\"val_accuracy\",\n",
    "        min_delta=0,\n",
    "        patience=20,\n",
    "        mode=\"max\",\n",
    "        restore_best_weights=True,\n",
    "        start_from_epoch=0\n",
    "    )\n",
    "]\n",
    "history = model.fit(\n",
    "    X, \n",
    "    y, \n",
    "    epochs=epochs, \n",
    "    batch_size=batch_size,\n",
    "    validation_split = 0.2, \n",
    "    callbacks=callbacks,\n",
    "    shuffle=True\n",
    ")"
   ]
  },
  {
   "cell_type": "code",
   "execution_count": 92,
   "metadata": {},
   "outputs": [],
   "source": [
    "# save model\n",
    "save_weights_path = \"./model/model.weights.h5\"\n",
    "# model.save_weights(save_weights_path)"
   ]
  },
  {
   "cell_type": "code",
   "execution_count": 120,
   "metadata": {},
   "outputs": [],
   "source": [
    "# Load model\n",
    "model.load_weights(save_weights_path)"
   ]
  },
  {
   "cell_type": "code",
   "execution_count": 94,
   "metadata": {},
   "outputs": [],
   "source": [
    "def plot(history): # It's always the same function.\n",
    "    # @Author: M. Rivelli Unica\n",
    "    keys = [key for key in history.keys() if key[:4] != \"val_\"]\n",
    "    fig, ax = plt.subplots(nrows=1, ncols=len(keys), figsize=(18, 5))\n",
    "    for i, key in enumerate(keys):\n",
    "        ax[i].plot(history[key], label=key)\n",
    "        if \"val_\"+key in history.keys():\n",
    "            ax[i].plot(history[\"val_\"+key], label=\"val_\"+key)\n",
    "        ax[i].legend()\n",
    "        ax[i].set_title(key)\n",
    "    fig.savefig(os.path.join(save_plot_dir, \"training_history.svg\"), format=\"svg\")\n",
    "    plt.show()"
   ]
  },
  {
   "cell_type": "code",
   "execution_count": 95,
   "metadata": {},
   "outputs": [
    {
     "data": {
      "image/png": "[encoded data removed]",
      "text/plain": [
       "<Figure size 1800x500 with 2 Axes>"
      ]
     },
     "metadata": {},
     "output_type": "display_data"
    }
   ],
   "source": [
    "plot(history.history)"
   ]
  },
  {
   "cell_type": "markdown",
   "metadata": {},
   "source": [
    "**Description of name generation:**\n",
    "\n",
    "1. At the start we have a sequence with only the token \\<START>. \n",
    "2. To start generating we give our sequence to the model. The model will produce probabilities associated to each letter to be the next. From this pool we select randomly one letter using the probabilities given by the model. \n",
    "3. We add the selected letter to the sequence and we feed the last __sequence_length__ characters to our model.\n",
    "4. We repeat step 2 and 3 until the model produce the token \\<END> or the maximum size of our name is reached"
   ]
  },
  {
   "cell_type": "code",
   "execution_count": 121,
   "metadata": {},
   "outputs": [],
   "source": [
    "def generate_dinosaur_name(label_num: int, special_token: SpecialToken, model, seq_len: int, seed_name: list[str] = [], max_len: int = 35) -> str:\n",
    "    \"\"\"\n",
    "        generate dinosaur name\n",
    "        :param label_num: an int representing the number of labels\n",
    "        :param special_token: a namedtuple with all the special token\n",
    "        :param model: the tf model to use to generate the name\n",
    "        :param seq_len: the length of the sequence to use\n",
    "        :param seed_name: the initial sequence\n",
    "        :param max_len: the max length of a generated name \n",
    "        :return a string representing a dinosaur name\n",
    "    \"\"\"\n",
    "    name = [special_token.start]\n",
    "    if seed_name != []:\n",
    "        name = seed_name\n",
    "    for _ in range(max_len):\n",
    "        sequence = np.array([[char_to_idx[char] for char in name[-seq_len:]]])\n",
    "        predictions = model.predict(sequence.reshape(1, -1), verbose=0)[0]\n",
    "        next_char_index = np.random.choice(label_num, p=predictions)\n",
    "        next_char = idx_to_char[next_char_index]\n",
    "\n",
    "        # Break if <END> token is predicted\n",
    "        if next_char == special_token.end:\n",
    "            break\n",
    "        name.append(next_char)\n",
    "    name = \"\".join(name)\n",
    "    # Clean up the output by removing <START> token and capitalizing\n",
    "    return name.replace(special_token.start, \"\").capitalize()"
   ]
  },
  {
   "cell_type": "code",
   "execution_count": 123,
   "metadata": {},
   "outputs": [],
   "source": [
    "name_num_to_generate = 100\n",
    "gen_names = []\n",
    "for _ in range(name_num_to_generate):\n",
    "    gen_names.append(generate_dinosaur_name(label_num, special_token, model, seq_len))"
   ]
  },
  {
   "cell_type": "code",
   "execution_count": 124,
   "metadata": {},
   "outputs": [
    {
     "name": "stdout",
     "output_type": "stream",
     "text": [
      "Drodon\n",
      "Hoarasaurus\n",
      "Lrrtucnisaurus\n",
      "Ervortontomia\n",
      "Irgtaia\n",
      "Topaltasaura\n",
      "Oahophyrathoteransor\n",
      "Osaurus\n",
      "Oisaurus\n",
      "Itoszdon\n"
     ]
    }
   ],
   "source": [
    "print(\"\\n\".join(gen_names[:10]))"
   ]
  },
  {
   "cell_type": "code",
   "execution_count": 125,
   "metadata": {},
   "outputs": [],
   "source": [
    "def postprocessing(names: list[str]) -> tuple[np.ndarray, dict[str, int]]:\n",
    "    auth_suffix = [\"saurus\", \"raptor\", \"ceratops\", \"mimus\", \"titan\", \"pelta\", \"pteryx\", \"venator\", \"long\", \"therium\", \"cyon\", \"pithecus\", \"cetus\", \"erpeton\", \"suchus\", \"pter\", \"pterus\", \"ella\", \"omorpha\", \"oidea\", \"idae\", \"inae\", \"ini\"]\n",
    "    regex = re.compile(\"({})$\".format(\"|\".join(auth_suffix)), re.IGNORECASE)\n",
    "    plausible_names = []\n",
    "    suffix_count = {\"other\": 0}\n",
    "    for suffix in auth_suffix:\n",
    "        suffix_count[suffix] = 0\n",
    "    for name in names:\n",
    "        m = regex.search(name)\n",
    "        if m:\n",
    "            plausible_names.append(name)\n",
    "            suffix_count[m.group()] += 1\n",
    "        else:\n",
    "            suffix_count[\"other\"] += 1\n",
    "    plausible_names = np.array(plausible_names)\n",
    "    return plausible_names, suffix_count"
   ]
  },
  {
   "cell_type": "code",
   "execution_count": 126,
   "metadata": {},
   "outputs": [],
   "source": [
    "plausible_names, suffix_count = postprocessing(gen_names)"
   ]
  },
  {
   "cell_type": "markdown",
   "metadata": {},
   "source": [
    "## Result Analysis"
   ]
  },
  {
   "cell_type": "code",
   "execution_count": 127,
   "metadata": {},
   "outputs": [],
   "source": [
    "def plot_suffix_count(suffix_count: dict[str, int]):\n",
    "    keys = list(suffix_count.keys())\n",
    "    count = []\n",
    "    for key in keys:\n",
    "        count.append(suffix_count[key])\n",
    "    fig, ax = plt.subplots(figsize=(18, 5)) \n",
    "    ax.bar(keys, count)\n",
    "    ax.set_ylabel('frequency')\n",
    "    ax.set_title('suffix')\n",
    "    ax.legend(title='frequency per existing suffix for generated names (deep learning)')\n",
    "    fig.savefig(os.path.join(save_plot_dir, \"frequency_per_existing_suffix_deep_learning_generated_names.svg\"), format=\"svg\")\n",
    "    plt.show()"
   ]
  },
  {
   "cell_type": "code",
   "execution_count": 128,
   "metadata": {},
   "outputs": [
    {
     "data": {
      "text/html": [
       "<div>\n",
       "<style scoped>\n",
       "    .dataframe tbody tr th:only-of-type {\n",
       "        vertical-align: middle;\n",
       "    }\n",
       "\n",
       "    .dataframe tbody tr th {\n",
       "        vertical-align: top;\n",
       "    }\n",
       "\n",
       "    .dataframe thead th {\n",
       "        text-align: right;\n",
       "    }\n",
       "</style>\n",
       "<table border=\"1\" class=\"dataframe\">\n",
       "  <thead>\n",
       "    <tr style=\"text-align: right;\">\n",
       "      <th></th>\n",
       "      <th>name</th>\n",
       "      <th>name_len</th>\n",
       "    </tr>\n",
       "  </thead>\n",
       "  <tbody>\n",
       "    <tr>\n",
       "      <th>0</th>\n",
       "      <td>Drodon</td>\n",
       "      <td>6</td>\n",
       "    </tr>\n",
       "    <tr>\n",
       "      <th>1</th>\n",
       "      <td>Hoarasaurus</td>\n",
       "      <td>11</td>\n",
       "    </tr>\n",
       "    <tr>\n",
       "      <th>2</th>\n",
       "      <td>Lrrtucnisaurus</td>\n",
       "      <td>14</td>\n",
       "    </tr>\n",
       "    <tr>\n",
       "      <th>3</th>\n",
       "      <td>Ervortontomia</td>\n",
       "      <td>13</td>\n",
       "    </tr>\n",
       "    <tr>\n",
       "      <th>4</th>\n",
       "      <td>Irgtaia</td>\n",
       "      <td>7</td>\n",
       "    </tr>\n",
       "  </tbody>\n",
       "</table>\n",
       "</div>"
      ],
      "text/plain": [
       "             name  name_len\n",
       "0          Drodon         6\n",
       "1     Hoarasaurus        11\n",
       "2  Lrrtucnisaurus        14\n",
       "3   Ervortontomia        13\n",
       "4         Irgtaia         7"
      ]
     },
     "execution_count": 128,
     "metadata": {},
     "output_type": "execute_result"
    }
   ],
   "source": [
    "df_deep_gen = pd.DataFrame(gen_names, columns=[\"name\"])\n",
    "df_deep_gen[\"name_len\"] = df_deep_gen[\"name\"].apply(lambda x: len(x))\n",
    "df_deep_gen.head()"
   ]
  },
  {
   "cell_type": "code",
   "execution_count": 129,
   "metadata": {},
   "outputs": [
    {
     "data": {
      "text/html": [
       "<div>\n",
       "<style scoped>\n",
       "    .dataframe tbody tr th:only-of-type {\n",
       "        vertical-align: middle;\n",
       "    }\n",
       "\n",
       "    .dataframe tbody tr th {\n",
       "        vertical-align: top;\n",
       "    }\n",
       "\n",
       "    .dataframe thead th {\n",
       "        text-align: right;\n",
       "    }\n",
       "</style>\n",
       "<table border=\"1\" class=\"dataframe\">\n",
       "  <thead>\n",
       "    <tr style=\"text-align: right;\">\n",
       "      <th></th>\n",
       "      <th>name</th>\n",
       "      <th>name_len</th>\n",
       "    </tr>\n",
       "  </thead>\n",
       "  <tbody>\n",
       "    <tr>\n",
       "      <th>0</th>\n",
       "      <td>Hoarasaurus</td>\n",
       "      <td>11</td>\n",
       "    </tr>\n",
       "    <tr>\n",
       "      <th>1</th>\n",
       "      <td>Lrrtucnisaurus</td>\n",
       "      <td>14</td>\n",
       "    </tr>\n",
       "    <tr>\n",
       "      <th>2</th>\n",
       "      <td>Osaurus</td>\n",
       "      <td>7</td>\n",
       "    </tr>\n",
       "    <tr>\n",
       "      <th>3</th>\n",
       "      <td>Oisaurus</td>\n",
       "      <td>8</td>\n",
       "    </tr>\n",
       "    <tr>\n",
       "      <th>4</th>\n",
       "      <td>Oriasimosaurus</td>\n",
       "      <td>14</td>\n",
       "    </tr>\n",
       "  </tbody>\n",
       "</table>\n",
       "</div>"
      ],
      "text/plain": [
       "             name  name_len\n",
       "0     Hoarasaurus        11\n",
       "1  Lrrtucnisaurus        14\n",
       "2         Osaurus         7\n",
       "3        Oisaurus         8\n",
       "4  Oriasimosaurus        14"
      ]
     },
     "execution_count": 129,
     "metadata": {},
     "output_type": "execute_result"
    }
   ],
   "source": [
    "df_deep_gen_postprocessed = pd.DataFrame(plausible_names, columns=[\"name\"])\n",
    "df_deep_gen_postprocessed[\"name_len\"] = df_deep_gen_postprocessed[\"name\"].apply(lambda x: len(x))\n",
    "df_deep_gen_postprocessed.head()"
   ]
  },
  {
   "cell_type": "code",
   "execution_count": 130,
   "metadata": {},
   "outputs": [
    {
     "data": {
      "text/html": [
       "<div>\n",
       "<style scoped>\n",
       "    .dataframe tbody tr th:only-of-type {\n",
       "        vertical-align: middle;\n",
       "    }\n",
       "\n",
       "    .dataframe tbody tr th {\n",
       "        vertical-align: top;\n",
       "    }\n",
       "\n",
       "    .dataframe thead th {\n",
       "        text-align: right;\n",
       "    }\n",
       "</style>\n",
       "<table border=\"1\" class=\"dataframe\">\n",
       "  <thead>\n",
       "    <tr style=\"text-align: right;\">\n",
       "      <th></th>\n",
       "      <th>name_len</th>\n",
       "    </tr>\n",
       "  </thead>\n",
       "  <tbody>\n",
       "    <tr>\n",
       "      <th>count</th>\n",
       "      <td>1536.00000</td>\n",
       "    </tr>\n",
       "    <tr>\n",
       "      <th>mean</th>\n",
       "      <td>11.96224</td>\n",
       "    </tr>\n",
       "    <tr>\n",
       "      <th>std</th>\n",
       "      <td>2.49714</td>\n",
       "    </tr>\n",
       "    <tr>\n",
       "      <th>min</th>\n",
       "      <td>3.00000</td>\n",
       "    </tr>\n",
       "    <tr>\n",
       "      <th>25%</th>\n",
       "      <td>10.00000</td>\n",
       "    </tr>\n",
       "    <tr>\n",
       "      <th>50%</th>\n",
       "      <td>12.00000</td>\n",
       "    </tr>\n",
       "    <tr>\n",
       "      <th>75%</th>\n",
       "      <td>13.00000</td>\n",
       "    </tr>\n",
       "    <tr>\n",
       "      <th>max</th>\n",
       "      <td>26.00000</td>\n",
       "    </tr>\n",
       "  </tbody>\n",
       "</table>\n",
       "</div>"
      ],
      "text/plain": [
       "         name_len\n",
       "count  1536.00000\n",
       "mean     11.96224\n",
       "std       2.49714\n",
       "min       3.00000\n",
       "25%      10.00000\n",
       "50%      12.00000\n",
       "75%      13.00000\n",
       "max      26.00000"
      ]
     },
     "execution_count": 130,
     "metadata": {},
     "output_type": "execute_result"
    }
   ],
   "source": [
    "df.describe()"
   ]
  },
  {
   "cell_type": "code",
   "execution_count": 131,
   "metadata": {},
   "outputs": [
    {
     "data": {
      "text/html": [
       "<div>\n",
       "<style scoped>\n",
       "    .dataframe tbody tr th:only-of-type {\n",
       "        vertical-align: middle;\n",
       "    }\n",
       "\n",
       "    .dataframe tbody tr th {\n",
       "        vertical-align: top;\n",
       "    }\n",
       "\n",
       "    .dataframe thead th {\n",
       "        text-align: right;\n",
       "    }\n",
       "</style>\n",
       "<table border=\"1\" class=\"dataframe\">\n",
       "  <thead>\n",
       "    <tr style=\"text-align: right;\">\n",
       "      <th></th>\n",
       "      <th>name_len</th>\n",
       "    </tr>\n",
       "  </thead>\n",
       "  <tbody>\n",
       "    <tr>\n",
       "      <th>count</th>\n",
       "      <td>100.00000</td>\n",
       "    </tr>\n",
       "    <tr>\n",
       "      <th>mean</th>\n",
       "      <td>10.66000</td>\n",
       "    </tr>\n",
       "    <tr>\n",
       "      <th>std</th>\n",
       "      <td>3.69608</td>\n",
       "    </tr>\n",
       "    <tr>\n",
       "      <th>min</th>\n",
       "      <td>0.00000</td>\n",
       "    </tr>\n",
       "    <tr>\n",
       "      <th>25%</th>\n",
       "      <td>8.00000</td>\n",
       "    </tr>\n",
       "    <tr>\n",
       "      <th>50%</th>\n",
       "      <td>10.00000</td>\n",
       "    </tr>\n",
       "    <tr>\n",
       "      <th>75%</th>\n",
       "      <td>12.25000</td>\n",
       "    </tr>\n",
       "    <tr>\n",
       "      <th>max</th>\n",
       "      <td>22.00000</td>\n",
       "    </tr>\n",
       "  </tbody>\n",
       "</table>\n",
       "</div>"
      ],
      "text/plain": [
       "        name_len\n",
       "count  100.00000\n",
       "mean    10.66000\n",
       "std      3.69608\n",
       "min      0.00000\n",
       "25%      8.00000\n",
       "50%     10.00000\n",
       "75%     12.25000\n",
       "max     22.00000"
      ]
     },
     "execution_count": 131,
     "metadata": {},
     "output_type": "execute_result"
    }
   ],
   "source": [
    "df_deep_gen.describe()"
   ]
  },
  {
   "cell_type": "code",
   "execution_count": 132,
   "metadata": {},
   "outputs": [
    {
     "data": {
      "text/html": [
       "<div>\n",
       "<style scoped>\n",
       "    .dataframe tbody tr th:only-of-type {\n",
       "        vertical-align: middle;\n",
       "    }\n",
       "\n",
       "    .dataframe tbody tr th {\n",
       "        vertical-align: top;\n",
       "    }\n",
       "\n",
       "    .dataframe thead th {\n",
       "        text-align: right;\n",
       "    }\n",
       "</style>\n",
       "<table border=\"1\" class=\"dataframe\">\n",
       "  <thead>\n",
       "    <tr style=\"text-align: right;\">\n",
       "      <th></th>\n",
       "      <th>name_len</th>\n",
       "    </tr>\n",
       "  </thead>\n",
       "  <tbody>\n",
       "    <tr>\n",
       "      <th>count</th>\n",
       "      <td>63.000000</td>\n",
       "    </tr>\n",
       "    <tr>\n",
       "      <th>mean</th>\n",
       "      <td>11.349206</td>\n",
       "    </tr>\n",
       "    <tr>\n",
       "      <th>std</th>\n",
       "      <td>2.829332</td>\n",
       "    </tr>\n",
       "    <tr>\n",
       "      <th>min</th>\n",
       "      <td>7.000000</td>\n",
       "    </tr>\n",
       "    <tr>\n",
       "      <th>25%</th>\n",
       "      <td>9.000000</td>\n",
       "    </tr>\n",
       "    <tr>\n",
       "      <th>50%</th>\n",
       "      <td>11.000000</td>\n",
       "    </tr>\n",
       "    <tr>\n",
       "      <th>75%</th>\n",
       "      <td>13.000000</td>\n",
       "    </tr>\n",
       "    <tr>\n",
       "      <th>max</th>\n",
       "      <td>20.000000</td>\n",
       "    </tr>\n",
       "  </tbody>\n",
       "</table>\n",
       "</div>"
      ],
      "text/plain": [
       "        name_len\n",
       "count  63.000000\n",
       "mean   11.349206\n",
       "std     2.829332\n",
       "min     7.000000\n",
       "25%     9.000000\n",
       "50%    11.000000\n",
       "75%    13.000000\n",
       "max    20.000000"
      ]
     },
     "execution_count": 132,
     "metadata": {},
     "output_type": "execute_result"
    }
   ],
   "source": [
    "df_deep_gen_postprocessed.describe()"
   ]
  },
  {
   "cell_type": "code",
   "execution_count": 133,
   "metadata": {},
   "outputs": [
    {
     "data": {
      "image/png": "[encoded data removed]",
      "text/plain": [
       "<Figure size 640x480 with 1 Axes>"
      ]
     },
     "metadata": {},
     "output_type": "display_data"
    }
   ],
   "source": [
    "fig, ax = plt.subplots()\n",
    "bp = df_deep_gen.boxplot(column=[\"name_len\"])\n",
    "ax.set_title(\"name length deep generated names\")\n",
    "fig.savefig(os.path.join(save_plot_dir, \"deep_generated_name_length.svg\"), format=\"svg\")\n",
    "plt.show()"
   ]
  },
  {
   "cell_type": "code",
   "execution_count": 134,
   "metadata": {},
   "outputs": [
    {
     "name": "stderr",
     "output_type": "stream",
     "text": [
      "/tmp/ipykernel_666828/1754604432.py:10: UserWarning: No artists with labels found to put in legend.  Note that artists whose label start with an underscore are ignored when legend() is called with no argument.\n",
      "  ax.legend(title='frequency per existing suffix for generated names (deep learning)')\n"
     ]
    },
    {
     "data": {
      "image/png": "[encoded data removed]",
      "text/plain": [
       "<Figure size 1800x500 with 1 Axes>"
      ]
     },
     "metadata": {},
     "output_type": "display_data"
    }
   ],
   "source": [
    "plot_suffix_count(suffix_count)"
   ]
  },
  {
   "cell_type": "markdown",
   "metadata": {},
   "source": [
    "Here we have generated 100 new names and we see that 50% of generated name length is in [8, 13] which is close to the [10, 13] of the original dataset. We also have the mean length that is close to the median length like in the original dataset. Despite the low number of generated example, the model manages to reproduce statistical effect in initial dataset\n",
    "\n",
    "After postprocessing of the generated names we have about ~64% remaining. Our processing consists of removal of names with non international agreement suffix but we can't move them to bin because these result can give us new suffix that add to the agreement. 50% of the postprocessed names length are in [9, 13] which is close to the [10, 13] of the original dataset.\n",
    "\n",
    "From the plot above we can see that ~50% of generated names have suffix saurus and ~35% have suffix that are not in the international agreement of dinosaur names."
   ]
  },
  {
   "cell_type": "markdown",
   "metadata": {},
   "source": [
    "# Conclusion\n",
    "\n",
    "We have reach the end of this project. This project was to generate new dinosaurs names given a dataset of existing dinosaur name.\n",
    "\n",
    "1. First we try to do that using n_grams we saw that unigram (1_gram) and bigram (2_gram) had poor performance. It could be due to the fact that the lack context respectively using only previous letter or 2 previous letter. We also saw that 5_gram and 6_gram give us plausible names.\n",
    "\n",
    "2. Secondly we design and train a deep learning model to generate the names. We took inspiration on n_grams. In n_gram we select the next letter based on the probability given the n previous letter. This probability was in a custom matrix. We replaced the matrix here by a deep learning model. Using a sequence length of 6 like in the 6_grams give us better result that the n_gram counterpart. We also have additional benefit the deep learning model generalize in case he haven't see during training or with the hand-crafted matrix if we haven't see a case we have a risk of not knowing what to do"
   ]
  },
  {
   "cell_type": "markdown",
   "metadata": {},
   "source": [
    "# Playing with the deep learning model"
   ]
  },
  {
   "cell_type": "code",
   "execution_count": 138,
   "metadata": {},
   "outputs": [
    {
     "data": {
      "text/plain": [
       "'Karlongatholimus'"
      ]
     },
     "execution_count": 138,
     "metadata": {},
     "output_type": "execute_result"
    }
   ],
   "source": [
    "# Here you can modify param seed_name to give a list of char representing the initial sequence for the model\n",
    "generate_dinosaur_name(label_num, special_token, model, seq_len, seed_name=[special_token.start, \"k\", \"a\", \"r\", \"l\"])"
   ]
  },
  {
   "cell_type": "markdown",
   "metadata": {},
   "source": [
    "# References\n",
    "\n",
    "[1] Medium, Code Diaries: Text Prediction (n-grams), https://medium.com/analytics-vidhya/code-diaries-text-prediction-n-grams-e3aa4d5325a2\n",
    "\n",
    "[2] Medium, NLP : Génération de texte par n-grams, https://beranger.medium.com/nlp-génération-de-texte-par-n-grams-3894187f6cd4\n",
    "\n",
    "[3] Medium, N-grams in NLP, https://medium.com/@abhishekjainindore24/n-grams-in-nlp-a7c05c1aff12\n",
    "\n",
    "[4] Obscure Dinosaur Facts, https://obscuredinosaurfacts.com/blog/post/2019/09/05/dinosaur-word-roots.html"
   ]
  }
 ],
 "metadata": {
  "kernelspec": {
   "display_name": "venv",
   "language": "python",
   "name": "python3"
  },
  "language_info": {
   "codemirror_mode": {
    "name": "ipython",
    "version": 3
   },
   "file_extension": ".py",
   "mimetype": "text/x-python",
   "name": "python",
   "nbconvert_exporter": "python",
   "pygments_lexer": "ipython3",
   "version": "3.10.5"
  },
  "orig_nbformat": 4
 },
 "nbformat": 4,
 "nbformat_minor": 2
}
